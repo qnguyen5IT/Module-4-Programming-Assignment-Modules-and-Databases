{
 "cells": [
  {
   "cell_type": "code",
   "execution_count": 4,
   "id": "ab9cc353-b573-4de8-8680-adddcc403050",
   "metadata": {},
   "outputs": [
    {
     "name": "stdout",
     "output_type": "stream",
     "text": [
      "Open 9-5 Daily!\n"
     ]
    }
   ],
   "source": [
    "#11.1\n",
    "import zoo\n",
    "zoo.hours()"
   ]
  },
  {
   "cell_type": "code",
   "execution_count": 5,
   "id": "d4ec6061-6a31-42ad-be4d-8f9fb4756288",
   "metadata": {},
   "outputs": [
    {
     "name": "stdout",
     "output_type": "stream",
     "text": [
      "Open 9-5 Daily!\n"
     ]
    }
   ],
   "source": [
    "#11.2\n",
    "import zoo as menagerie\n",
    "menagerie.hours()"
   ]
  },
  {
   "cell_type": "code",
   "execution_count": null,
   "id": "35c62c80-3ba1-47ba-8063-e9ff6b7e6fa3",
   "metadata": {},
   "outputs": [],
   "source": [
    "#16.8 \n",
    "from sqlalchemy import create_engine, MetaData, Table, select\n",
    "\n",
    "# Create an engine to connect to the bookslib database\n",
    "engine = create_engine('sqlite:///bookslib.db')\n",
    "\n",
    "#MetaData stores information from the table\n",
    "metadata = MetaData()\n",
    "books = Table('books', metadata, autoload_with=engine)\n",
    "\n",
    "# Create a select query to get the titles in alphabetical order\n",
    "get_titles = select(books.c.title).order_by(books.c.title)\n",
    "\n",
    "# Runs the query to get results\n",
    "with engine.connect() as connection:\n",
    "    result = connection.execute(get_titles)\n",
    "    for row in result:\n",
    "        print(row[0])"
   ]
  }
 ],
 "metadata": {
  "kernelspec": {
   "display_name": "Python 3 (ipykernel)",
   "language": "python",
   "name": "python3"
  },
  "language_info": {
   "codemirror_mode": {
    "name": "ipython",
    "version": 3
   },
   "file_extension": ".py",
   "mimetype": "text/x-python",
   "name": "python",
   "nbconvert_exporter": "python",
   "pygments_lexer": "ipython3",
   "version": "3.12.4"
  }
 },
 "nbformat": 4,
 "nbformat_minor": 5
}
